{
 "cells": [
  {
   "cell_type": "code",
   "execution_count": 1,
   "metadata": {},
   "outputs": [],
   "source": [
    "import numpy as np\n",
    "import pandas as pd\n",
    "from io import StringIO\n",
    "import seaborn as sns\n",
    "import matplotlib.pyplot as plt\n",
    "from scipy import stats\n",
    "import statsmodels.formula.api as smf\n",
    "import warnings\n",
    "\n",
    "data = \"\"\"part_id,condition,allocation\n",
    "A,Low,\"3,1,0,2,1,0,0,0,1,2\"\n",
    "B,High,\"0,0,2,0,2,0,1,2,0,3\"\n",
    "C,High,\"3,0,0,2,1,0,0,0,3,1\"\n",
    "D,Low,\"2,1,0,2,0,1,2,0,1,1\"\n",
    "E,Low,\"3,2,0,0,0,1,0,3,0,1\"\n",
    "F,High,\"0,0,2,0,0,1,2,0,2,3\"\n",
    "G,Low,\"1,3,0,3,0,2,0,1,0,0\"\n",
    "H,High,\"0,1,3,0,0,1,2,2,1,0\"\n",
    "I,High,\"2,2,0,0,0,2,1,0,0,3\"\n",
    "J,Low,\"1,3,1,0,2,2,0,0,0,1\"\n",
    "K,Low,\"1,3,1,0,0,1,2,1,1,0\"\n",
    "L,Low,\"3,1,2,1,0,1,0,1,0,1\"\n",
    "M,Low,\"0,2,2,0,1,3,0,2,0,0\"\n",
    "N,Low,\"1,3,0,2,0,1,1,1,1,0\"\n",
    "O,High,\"0,0,1,3,1,0,0,3,0,2\"\n",
    "P,High,\"1,1,2,0,0,0,2,0,2,2\"\n",
    "Q,High,\"1,1,0,0,0,0,3,2,2,1\"\n",
    "R,High,\"2,0,0,0,0,2,3,0,3,0\"\n",
    "S,High,\"0,1,3,2,0,0,0,0,1,3\"\n",
    "T,Low,\"1,3,1,0,1,0,3,0,0,1\"\n",
    "\"\"\""
   ]
  },
  {
   "cell_type": "markdown",
   "metadata": {},
   "source": [
    "You have just completed a pilot on a Qualtrics. Participants have been randomly assigned to one of two conditions (\"Low\" or \"High\"), and have learned a distribution of numbers ranging from 11 to 20.\n",
    "\n",
    "After learning the distribution, they have been asked to predict the next 10 numbers drawn from this distribution. To do so, they had to allocate 10 balls on a distribution builder with 10 buckets, labeled [11, 12, 13, 14, 15, 16, 17, 18, 19, 20].\n",
    "\n",
    "Here is the data for the first twenty participants in your study (in practice, always collect more than this. Please)."
   ]
  },
  {
   "cell_type": "code",
   "execution_count": 2,
   "metadata": {},
   "outputs": [
    {
     "data": {
      "text/html": [
       "<div>\n",
       "<style scoped>\n",
       "    .dataframe tbody tr th:only-of-type {\n",
       "        vertical-align: middle;\n",
       "    }\n",
       "\n",
       "    .dataframe tbody tr th {\n",
       "        vertical-align: top;\n",
       "    }\n",
       "\n",
       "    .dataframe thead th {\n",
       "        text-align: right;\n",
       "    }\n",
       "</style>\n",
       "<table border=\"1\" class=\"dataframe\">\n",
       "  <thead>\n",
       "    <tr style=\"text-align: right;\">\n",
       "      <th></th>\n",
       "      <th>part_id</th>\n",
       "      <th>condition</th>\n",
       "      <th>allocation</th>\n",
       "    </tr>\n",
       "  </thead>\n",
       "  <tbody>\n",
       "    <tr>\n",
       "      <th>0</th>\n",
       "      <td>A</td>\n",
       "      <td>Low</td>\n",
       "      <td>3,1,0,2,1,0,0,0,1,2</td>\n",
       "    </tr>\n",
       "    <tr>\n",
       "      <th>1</th>\n",
       "      <td>B</td>\n",
       "      <td>High</td>\n",
       "      <td>0,0,2,0,2,0,1,2,0,3</td>\n",
       "    </tr>\n",
       "    <tr>\n",
       "      <th>2</th>\n",
       "      <td>C</td>\n",
       "      <td>High</td>\n",
       "      <td>3,0,0,2,1,0,0,0,3,1</td>\n",
       "    </tr>\n",
       "    <tr>\n",
       "      <th>3</th>\n",
       "      <td>D</td>\n",
       "      <td>Low</td>\n",
       "      <td>2,1,0,2,0,1,2,0,1,1</td>\n",
       "    </tr>\n",
       "    <tr>\n",
       "      <th>4</th>\n",
       "      <td>E</td>\n",
       "      <td>Low</td>\n",
       "      <td>3,2,0,0,0,1,0,3,0,1</td>\n",
       "    </tr>\n",
       "    <tr>\n",
       "      <th>5</th>\n",
       "      <td>F</td>\n",
       "      <td>High</td>\n",
       "      <td>0,0,2,0,0,1,2,0,2,3</td>\n",
       "    </tr>\n",
       "    <tr>\n",
       "      <th>6</th>\n",
       "      <td>G</td>\n",
       "      <td>Low</td>\n",
       "      <td>1,3,0,3,0,2,0,1,0,0</td>\n",
       "    </tr>\n",
       "    <tr>\n",
       "      <th>7</th>\n",
       "      <td>H</td>\n",
       "      <td>High</td>\n",
       "      <td>0,1,3,0,0,1,2,2,1,0</td>\n",
       "    </tr>\n",
       "    <tr>\n",
       "      <th>8</th>\n",
       "      <td>I</td>\n",
       "      <td>High</td>\n",
       "      <td>2,2,0,0,0,2,1,0,0,3</td>\n",
       "    </tr>\n",
       "    <tr>\n",
       "      <th>9</th>\n",
       "      <td>J</td>\n",
       "      <td>Low</td>\n",
       "      <td>1,3,1,0,2,2,0,0,0,1</td>\n",
       "    </tr>\n",
       "    <tr>\n",
       "      <th>10</th>\n",
       "      <td>K</td>\n",
       "      <td>Low</td>\n",
       "      <td>1,3,1,0,0,1,2,1,1,0</td>\n",
       "    </tr>\n",
       "    <tr>\n",
       "      <th>11</th>\n",
       "      <td>L</td>\n",
       "      <td>Low</td>\n",
       "      <td>3,1,2,1,0,1,0,1,0,1</td>\n",
       "    </tr>\n",
       "    <tr>\n",
       "      <th>12</th>\n",
       "      <td>M</td>\n",
       "      <td>Low</td>\n",
       "      <td>0,2,2,0,1,3,0,2,0,0</td>\n",
       "    </tr>\n",
       "    <tr>\n",
       "      <th>13</th>\n",
       "      <td>N</td>\n",
       "      <td>Low</td>\n",
       "      <td>1,3,0,2,0,1,1,1,1,0</td>\n",
       "    </tr>\n",
       "    <tr>\n",
       "      <th>14</th>\n",
       "      <td>O</td>\n",
       "      <td>High</td>\n",
       "      <td>0,0,1,3,1,0,0,3,0,2</td>\n",
       "    </tr>\n",
       "    <tr>\n",
       "      <th>15</th>\n",
       "      <td>P</td>\n",
       "      <td>High</td>\n",
       "      <td>1,1,2,0,0,0,2,0,2,2</td>\n",
       "    </tr>\n",
       "    <tr>\n",
       "      <th>16</th>\n",
       "      <td>Q</td>\n",
       "      <td>High</td>\n",
       "      <td>1,1,0,0,0,0,3,2,2,1</td>\n",
       "    </tr>\n",
       "    <tr>\n",
       "      <th>17</th>\n",
       "      <td>R</td>\n",
       "      <td>High</td>\n",
       "      <td>2,0,0,0,0,2,3,0,3,0</td>\n",
       "    </tr>\n",
       "    <tr>\n",
       "      <th>18</th>\n",
       "      <td>S</td>\n",
       "      <td>High</td>\n",
       "      <td>0,1,3,2,0,0,0,0,1,3</td>\n",
       "    </tr>\n",
       "    <tr>\n",
       "      <th>19</th>\n",
       "      <td>T</td>\n",
       "      <td>Low</td>\n",
       "      <td>1,3,1,0,1,0,3,0,0,1</td>\n",
       "    </tr>\n",
       "  </tbody>\n",
       "</table>\n",
       "</div>"
      ],
      "text/plain": [
       "   part_id condition           allocation\n",
       "0        A       Low  3,1,0,2,1,0,0,0,1,2\n",
       "1        B      High  0,0,2,0,2,0,1,2,0,3\n",
       "2        C      High  3,0,0,2,1,0,0,0,3,1\n",
       "3        D       Low  2,1,0,2,0,1,2,0,1,1\n",
       "4        E       Low  3,2,0,0,0,1,0,3,0,1\n",
       "5        F      High  0,0,2,0,0,1,2,0,2,3\n",
       "6        G       Low  1,3,0,3,0,2,0,1,0,0\n",
       "7        H      High  0,1,3,0,0,1,2,2,1,0\n",
       "8        I      High  2,2,0,0,0,2,1,0,0,3\n",
       "9        J       Low  1,3,1,0,2,2,0,0,0,1\n",
       "10       K       Low  1,3,1,0,0,1,2,1,1,0\n",
       "11       L       Low  3,1,2,1,0,1,0,1,0,1\n",
       "12       M       Low  0,2,2,0,1,3,0,2,0,0\n",
       "13       N       Low  1,3,0,2,0,1,1,1,1,0\n",
       "14       O      High  0,0,1,3,1,0,0,3,0,2\n",
       "15       P      High  1,1,2,0,0,0,2,0,2,2\n",
       "16       Q      High  1,1,0,0,0,0,3,2,2,1\n",
       "17       R      High  2,0,0,0,0,2,3,0,3,0\n",
       "18       S      High  0,1,3,2,0,0,0,0,1,3\n",
       "19       T       Low  1,3,1,0,1,0,3,0,0,1"
      ]
     },
     "execution_count": 2,
     "metadata": {},
     "output_type": "execute_result"
    }
   ],
   "source": [
    "df = pd.read_csv(StringIO(data), sep=\",\")\n",
    "df"
   ]
  },
  {
   "cell_type": "markdown",
   "metadata": {},
   "source": [
    "## 1. Data Wrangling: Transforming the data for statistical analysis and visualization."
   ]
  },
  {
   "cell_type": "markdown",
   "metadata": {},
   "source": [
    "If you look at the data, you can see that you have the allocation provided by each participant. \n",
    "\n",
    "However, those allocations are not interpretable right now:\n",
    "1. The allocations are stored as a string (and not as a list of numbers).\n",
    "2. This numbers in this *allocation* are not the values of the *distribution*: those are the number of balls in each bucket. You can see that all the values are below 10, while the buckets ranged from 11 to 20.\n",
    "\n",
    "Let's review how you should transform this data, and what you can do with it.\n",
    "\n",
    "The first step is to write a function and convert those allocations to distributions."
   ]
  },
  {
   "cell_type": "markdown",
   "metadata": {},
   "source": [
    "### a. Converting the allocations into distributions"
   ]
  },
  {
   "cell_type": "code",
   "execution_count": 3,
   "metadata": {},
   "outputs": [],
   "source": [
    "def convert_allocation_to_distribution(allocation, buckets):\n",
    "    \"\"\"\n",
    "    Takes an allocation of balls to buckets, and a list of buckets.\n",
    "    Return the corresponding distribution of values.\n",
    "    \n",
    "    Example: \n",
    "        buckets = [1, 2, 3, 4, 5]\n",
    "        x = \"0, 3, 1, 2, 1\"\n",
    "        dist = convert_allocation_to_distribution(x, buckets)\n",
    "        print(dist) -> (2, 2, 2, 3, 4, 4, 5)\n",
    "    \"\"\"\n",
    "    arr = allocation.split(\",\")\n",
    "    \n",
    "    if len(arr) != len(buckets):\n",
    "        raise ValueError(\"The number of buckets should match the length of the allocations.\")\n",
    "    values = np.repeat(buckets, arr)\n",
    "    return values"
   ]
  },
  {
   "cell_type": "markdown",
   "metadata": {},
   "source": [
    "Now we apply this function to the column \"allocation\", specifying that the buckets ranged from 11 to 20."
   ]
  },
  {
   "cell_type": "code",
   "execution_count": 4,
   "metadata": {},
   "outputs": [
    {
     "data": {
      "text/html": [
       "<div>\n",
       "<style scoped>\n",
       "    .dataframe tbody tr th:only-of-type {\n",
       "        vertical-align: middle;\n",
       "    }\n",
       "\n",
       "    .dataframe tbody tr th {\n",
       "        vertical-align: top;\n",
       "    }\n",
       "\n",
       "    .dataframe thead th {\n",
       "        text-align: right;\n",
       "    }\n",
       "</style>\n",
       "<table border=\"1\" class=\"dataframe\">\n",
       "  <thead>\n",
       "    <tr style=\"text-align: right;\">\n",
       "      <th></th>\n",
       "      <th>part_id</th>\n",
       "      <th>condition</th>\n",
       "      <th>allocation</th>\n",
       "      <th>distribution</th>\n",
       "    </tr>\n",
       "  </thead>\n",
       "  <tbody>\n",
       "    <tr>\n",
       "      <th>0</th>\n",
       "      <td>A</td>\n",
       "      <td>Low</td>\n",
       "      <td>3,1,0,2,1,0,0,0,1,2</td>\n",
       "      <td>[11, 11, 11, 12, 14, 14, 15, 19, 20, 20]</td>\n",
       "    </tr>\n",
       "    <tr>\n",
       "      <th>1</th>\n",
       "      <td>B</td>\n",
       "      <td>High</td>\n",
       "      <td>0,0,2,0,2,0,1,2,0,3</td>\n",
       "      <td>[13, 13, 15, 15, 17, 18, 18, 20, 20, 20]</td>\n",
       "    </tr>\n",
       "    <tr>\n",
       "      <th>2</th>\n",
       "      <td>C</td>\n",
       "      <td>High</td>\n",
       "      <td>3,0,0,2,1,0,0,0,3,1</td>\n",
       "      <td>[11, 11, 11, 14, 14, 15, 19, 19, 19, 20]</td>\n",
       "    </tr>\n",
       "    <tr>\n",
       "      <th>3</th>\n",
       "      <td>D</td>\n",
       "      <td>Low</td>\n",
       "      <td>2,1,0,2,0,1,2,0,1,1</td>\n",
       "      <td>[11, 11, 12, 14, 14, 16, 17, 17, 19, 20]</td>\n",
       "    </tr>\n",
       "    <tr>\n",
       "      <th>4</th>\n",
       "      <td>E</td>\n",
       "      <td>Low</td>\n",
       "      <td>3,2,0,0,0,1,0,3,0,1</td>\n",
       "      <td>[11, 11, 11, 12, 12, 16, 18, 18, 18, 20]</td>\n",
       "    </tr>\n",
       "  </tbody>\n",
       "</table>\n",
       "</div>"
      ],
      "text/plain": [
       "  part_id condition           allocation  \\\n",
       "0       A       Low  3,1,0,2,1,0,0,0,1,2   \n",
       "1       B      High  0,0,2,0,2,0,1,2,0,3   \n",
       "2       C      High  3,0,0,2,1,0,0,0,3,1   \n",
       "3       D       Low  2,1,0,2,0,1,2,0,1,1   \n",
       "4       E       Low  3,2,0,0,0,1,0,3,0,1   \n",
       "\n",
       "                               distribution  \n",
       "0  [11, 11, 11, 12, 14, 14, 15, 19, 20, 20]  \n",
       "1  [13, 13, 15, 15, 17, 18, 18, 20, 20, 20]  \n",
       "2  [11, 11, 11, 14, 14, 15, 19, 19, 19, 20]  \n",
       "3  [11, 11, 12, 14, 14, 16, 17, 17, 19, 20]  \n",
       "4  [11, 11, 11, 12, 12, 16, 18, 18, 18, 20]  "
      ]
     },
     "execution_count": 4,
     "metadata": {},
     "output_type": "execute_result"
    }
   ],
   "source": [
    "df[\"distribution\"] = df[\"allocation\"].apply(convert_allocation_to_distribution, \n",
    "                                            buckets=[11, 12, 13, 14, 15, 16, 17, 18, 19, 20])\n",
    "df.head()"
   ]
  },
  {
   "cell_type": "markdown",
   "metadata": {},
   "source": [
    "Good! The raw allocation strings have now been converted to the actual distribution provided by participants. However, the data is in a nice shape: the data for each participant is stored as a list of number in a single column. Ideally, we'd like a format that we can use to do analysis and graphs."
   ]
  },
  {
   "cell_type": "markdown",
   "metadata": {},
   "source": [
    "### b. Pivoting the distributions in long form"
   ]
  },
  {
   "cell_type": "markdown",
   "metadata": {},
   "source": [
    "We are now going to reshape the data in long form, such that one record corresponds to one value entered by one participant."
   ]
  },
  {
   "cell_type": "code",
   "execution_count": 5,
   "metadata": {},
   "outputs": [],
   "source": [
    "part_values = df.set_index('part_id')['distribution'].apply(pd.Series).stack().reset_index()\n",
    "part_values.columns = [\"part_id\", \"value_index\", \"value\"]"
   ]
  },
  {
   "cell_type": "markdown",
   "metadata": {},
   "source": [
    "Let's first check that we have the expected number of records. We have 20 participants and 10 values by participants:"
   ]
  },
  {
   "cell_type": "code",
   "execution_count": 6,
   "metadata": {},
   "outputs": [
    {
     "data": {
      "text/plain": [
       "200"
      ]
     },
     "execution_count": 6,
     "metadata": {},
     "output_type": "execute_result"
    }
   ],
   "source": [
    "part_values.shape[0]"
   ]
  },
  {
   "cell_type": "markdown",
   "metadata": {},
   "source": [
    "That's a total of 200 observations. Good. Now if we inspect the head of the dataset..."
   ]
  },
  {
   "cell_type": "code",
   "execution_count": 7,
   "metadata": {},
   "outputs": [
    {
     "data": {
      "text/html": [
       "<div>\n",
       "<style scoped>\n",
       "    .dataframe tbody tr th:only-of-type {\n",
       "        vertical-align: middle;\n",
       "    }\n",
       "\n",
       "    .dataframe tbody tr th {\n",
       "        vertical-align: top;\n",
       "    }\n",
       "\n",
       "    .dataframe thead th {\n",
       "        text-align: right;\n",
       "    }\n",
       "</style>\n",
       "<table border=\"1\" class=\"dataframe\">\n",
       "  <thead>\n",
       "    <tr style=\"text-align: right;\">\n",
       "      <th></th>\n",
       "      <th>part_id</th>\n",
       "      <th>value_index</th>\n",
       "      <th>value</th>\n",
       "    </tr>\n",
       "  </thead>\n",
       "  <tbody>\n",
       "    <tr>\n",
       "      <th>0</th>\n",
       "      <td>A</td>\n",
       "      <td>0</td>\n",
       "      <td>11</td>\n",
       "    </tr>\n",
       "    <tr>\n",
       "      <th>1</th>\n",
       "      <td>A</td>\n",
       "      <td>1</td>\n",
       "      <td>11</td>\n",
       "    </tr>\n",
       "    <tr>\n",
       "      <th>2</th>\n",
       "      <td>A</td>\n",
       "      <td>2</td>\n",
       "      <td>11</td>\n",
       "    </tr>\n",
       "    <tr>\n",
       "      <th>3</th>\n",
       "      <td>A</td>\n",
       "      <td>3</td>\n",
       "      <td>12</td>\n",
       "    </tr>\n",
       "    <tr>\n",
       "      <th>4</th>\n",
       "      <td>A</td>\n",
       "      <td>4</td>\n",
       "      <td>14</td>\n",
       "    </tr>\n",
       "  </tbody>\n",
       "</table>\n",
       "</div>"
      ],
      "text/plain": [
       "  part_id  value_index  value\n",
       "0       A            0     11\n",
       "1       A            1     11\n",
       "2       A            2     11\n",
       "3       A            3     12\n",
       "4       A            4     14"
      ]
     },
     "execution_count": 7,
     "metadata": {},
     "output_type": "execute_result"
    }
   ],
   "source": [
    "part_values.head()"
   ]
  },
  {
   "cell_type": "markdown",
   "metadata": {},
   "source": [
    "...we see that we have lost some information along the way: we have the list of all values, but no longer have any participant-level information beyond the identifier `part_id`.\n",
    "\n",
    "To correct this, we finally need to merge those values with the original dataset on the column `part_id`. "
   ]
  },
  {
   "cell_type": "markdown",
   "metadata": {},
   "source": [
    "### c. Merging back the rest of the data\n",
    "\n",
    "Before merging, we can also drop the columns \"distribution\" and \"allocation\", which are no longer needed."
   ]
  },
  {
   "cell_type": "code",
   "execution_count": 8,
   "metadata": {},
   "outputs": [
    {
     "data": {
      "text/html": [
       "<div>\n",
       "<style scoped>\n",
       "    .dataframe tbody tr th:only-of-type {\n",
       "        vertical-align: middle;\n",
       "    }\n",
       "\n",
       "    .dataframe tbody tr th {\n",
       "        vertical-align: top;\n",
       "    }\n",
       "\n",
       "    .dataframe thead th {\n",
       "        text-align: right;\n",
       "    }\n",
       "</style>\n",
       "<table border=\"1\" class=\"dataframe\">\n",
       "  <thead>\n",
       "    <tr style=\"text-align: right;\">\n",
       "      <th></th>\n",
       "      <th>part_id</th>\n",
       "      <th>value_index</th>\n",
       "      <th>value</th>\n",
       "      <th>condition</th>\n",
       "    </tr>\n",
       "  </thead>\n",
       "  <tbody>\n",
       "    <tr>\n",
       "      <th>0</th>\n",
       "      <td>A</td>\n",
       "      <td>0</td>\n",
       "      <td>11</td>\n",
       "      <td>Low</td>\n",
       "    </tr>\n",
       "    <tr>\n",
       "      <th>1</th>\n",
       "      <td>A</td>\n",
       "      <td>1</td>\n",
       "      <td>11</td>\n",
       "      <td>Low</td>\n",
       "    </tr>\n",
       "    <tr>\n",
       "      <th>2</th>\n",
       "      <td>A</td>\n",
       "      <td>2</td>\n",
       "      <td>11</td>\n",
       "      <td>Low</td>\n",
       "    </tr>\n",
       "    <tr>\n",
       "      <th>3</th>\n",
       "      <td>A</td>\n",
       "      <td>3</td>\n",
       "      <td>12</td>\n",
       "      <td>Low</td>\n",
       "    </tr>\n",
       "    <tr>\n",
       "      <th>4</th>\n",
       "      <td>A</td>\n",
       "      <td>4</td>\n",
       "      <td>14</td>\n",
       "      <td>Low</td>\n",
       "    </tr>\n",
       "  </tbody>\n",
       "</table>\n",
       "</div>"
      ],
      "text/plain": [
       "  part_id  value_index  value condition\n",
       "0       A            0     11       Low\n",
       "1       A            1     11       Low\n",
       "2       A            2     11       Low\n",
       "3       A            3     12       Low\n",
       "4       A            4     14       Low"
      ]
     },
     "execution_count": 8,
     "metadata": {},
     "output_type": "execute_result"
    }
   ],
   "source": [
    "df_long = part_values.merge(df.drop([\"distribution\", \"allocation\"], axis=1), on=\"part_id\")\n",
    "df_long.head()"
   ]
  },
  {
   "cell_type": "markdown",
   "metadata": {},
   "source": [
    "We now have everything in long form:\n",
    "* The participant-level information\n",
    "* All the values of the distributions provided by the participants\n",
    "\n",
    "We are now ready for some visualization and statistical analysis."
   ]
  },
  {
   "cell_type": "markdown",
   "metadata": {},
   "source": [
    "## 2. Visualizing the data"
   ]
  },
  {
   "cell_type": "markdown",
   "metadata": {},
   "source": [
    "The first thing you can do is to inspect the distributions provided by the participants: do they look nice? Let's inspect the distributions provided by those 20 respondents."
   ]
  },
  {
   "cell_type": "code",
   "execution_count": 9,
   "metadata": {},
   "outputs": [
    {
     "data": {
      "image/png": "[encoded data removed]",
      "text/plain": [
       "<Figure size 793.525x540 with 20 Axes>"
      ]
     },
     "metadata": {},
     "output_type": "display_data"
    }
   ],
   "source": [
    "bins = np.arange(10.5, 20.6, 1)\n",
    "xticks = np.arange(11, 20.1, 1)\n",
    "g = sns.FacetGrid(data=df_long, col=\"part_id\", col_wrap=4, hue=\"condition\", sharex=False, size=1.5, aspect=1.7)\n",
    "g.map(plt.hist, \"value\", bins=bins, histtype=\"bar\", rwidth=0.8)\n",
    "g.set_ylabels(\"Number of Balls\")\n",
    "g.set_xlabels(\"Bucket\")\n",
    "g.set(xticks=xticks)\n",
    "g.set_titles(\"Participant {col_name}\")\n",
    "g.set(xlim=(10, 21))\n",
    "g.add_legend(title=\"Condition\");"
   ]
  },
  {
   "cell_type": "markdown",
   "metadata": {},
   "source": [
    "Since those allocations were randomly generated, they do not look very nice. Oh well. But at least we have an interesting representation of participants' responses! \n",
    "\n",
    "Note that we could also look at the distribution of responses by condition."
   ]
  },
  {
   "cell_type": "code",
   "execution_count": 10,
   "metadata": {},
   "outputs": [
    {
     "data": {
      "image/png": "[encoded data removed]",
      "text/plain": [
       "<Figure size 576x288 with 2 Axes>"
      ]
     },
     "metadata": {},
     "output_type": "display_data"
    }
   ],
   "source": [
    "g = sns.FacetGrid(data=df_long, col=\"condition\", hue=\"condition\", size=4)\n",
    "g.map(plt.hist, \"value\", bins=bins, lw=1, rwidth=0.8)\n",
    "g.set_ylabels(\"Total Number of Balls\")\n",
    "g.set_xlabels(\"Bucket\")\n",
    "g.set(xticks=xticks)\n",
    "g.set_titles(\"Condition {col_name}\")\n",
    "g.set(xlim=(10, 21));"
   ]
  },
  {
   "cell_type": "markdown",
   "metadata": {},
   "source": [
    "The visualization above is informative within each condition, but you cannot compare the two conditions (unless you have the exact same number of participant in each condition).\n",
    "\n",
    "If if is not the case, we can visualize the mean number of balls in each bucket and each condition by applying a simple transformation:"
   ]
  },
  {
   "cell_type": "code",
   "execution_count": 11,
   "metadata": {},
   "outputs": [
    {
     "data": {
      "text/html": [
       "<div>\n",
       "<style scoped>\n",
       "    .dataframe tbody tr th:only-of-type {\n",
       "        vertical-align: middle;\n",
       "    }\n",
       "\n",
       "    .dataframe tbody tr th {\n",
       "        vertical-align: top;\n",
       "    }\n",
       "\n",
       "    .dataframe thead th {\n",
       "        text-align: right;\n",
       "    }\n",
       "</style>\n",
       "<table border=\"1\" class=\"dataframe\">\n",
       "  <thead>\n",
       "    <tr style=\"text-align: right;\">\n",
       "      <th></th>\n",
       "      <th>condition</th>\n",
       "      <th>value</th>\n",
       "      <th>median</th>\n",
       "    </tr>\n",
       "  </thead>\n",
       "  <tbody>\n",
       "    <tr>\n",
       "      <th>0</th>\n",
       "      <td>High</td>\n",
       "      <td>11</td>\n",
       "      <td>1.800000</td>\n",
       "    </tr>\n",
       "    <tr>\n",
       "      <th>1</th>\n",
       "      <td>High</td>\n",
       "      <td>12</td>\n",
       "      <td>1.200000</td>\n",
       "    </tr>\n",
       "    <tr>\n",
       "      <th>2</th>\n",
       "      <td>High</td>\n",
       "      <td>13</td>\n",
       "      <td>2.166667</td>\n",
       "    </tr>\n",
       "    <tr>\n",
       "      <th>3</th>\n",
       "      <td>High</td>\n",
       "      <td>14</td>\n",
       "      <td>2.333333</td>\n",
       "    </tr>\n",
       "    <tr>\n",
       "      <th>4</th>\n",
       "      <td>High</td>\n",
       "      <td>15</td>\n",
       "      <td>1.333333</td>\n",
       "    </tr>\n",
       "  </tbody>\n",
       "</table>\n",
       "</div>"
      ],
      "text/plain": [
       "  condition  value    median\n",
       "0      High     11  1.800000\n",
       "1      High     12  1.200000\n",
       "2      High     13  2.166667\n",
       "3      High     14  2.333333\n",
       "4      High     15  1.333333"
      ]
     },
     "execution_count": 11,
     "metadata": {},
     "output_type": "execute_result"
    }
   ],
   "source": [
    "med_values = (df_long.groupby([\"part_id\", \"value\", \"condition\"]).count()\n",
    "             .reset_index().groupby([\"condition\", \"value\"])\n",
    "             .mean().reset_index())\n",
    "med_values.columns = [\"condition\", \"value\", \"median\"]\n",
    "med_values.head()"
   ]
  },
  {
   "cell_type": "code",
   "execution_count": 12,
   "metadata": {},
   "outputs": [
    {
     "data": {
      "image/png": "[encoded data removed]",
      "text/plain": [
       "<Figure size 635.125x288 with 1 Axes>"
      ]
     },
     "metadata": {},
     "output_type": "display_data"
    }
   ],
   "source": [
    "g = sns.factorplot(x=\"value\", y=\"median\", hue=\"condition\", hue_order=[\"Low\", \"High\"],\n",
    "                   data=med_values, kind=\"bar\", ec=\"white\", size=4, aspect=2)\n",
    "g.set_ylabels(\"Median Number of Balls\")\n",
    "g.set_xlabels(\"Bucket\")\n",
    "g.set_titles(\"Condition {col_name}\");"
   ]
  },
  {
   "cell_type": "markdown",
   "metadata": {},
   "source": [
    "## 3. Analyzing summary statistics"
   ]
  },
  {
   "cell_type": "markdown",
   "metadata": {},
   "source": [
    "**The analysis of the data always depends on the research question.** \n",
    "\n",
    "So far, we have considered that we have collected 10 values from each participant, and have treated the data as such. \n",
    "\n",
    "However, we could have collected the data with the specific goal of testing people's perception of a statistics (e.g. mean/standard deviation/skewness) of a distribution. \n",
    "\n",
    "In that case, the relevant unit of analysis is the *statistics* computed at the distribution's level. We need to aggregate the long form data on `part_id`, and compute the statistics of interest, to obtain one record point per participant."
   ]
  },
  {
   "cell_type": "code",
   "execution_count": 13,
   "metadata": {},
   "outputs": [
    {
     "data": {
      "text/html": [
       "<div>\n",
       "<style scoped>\n",
       "    .dataframe tbody tr th:only-of-type {\n",
       "        vertical-align: middle;\n",
       "    }\n",
       "\n",
       "    .dataframe tbody tr th {\n",
       "        vertical-align: top;\n",
       "    }\n",
       "\n",
       "    .dataframe thead th {\n",
       "        text-align: right;\n",
       "    }\n",
       "</style>\n",
       "<table border=\"1\" class=\"dataframe\">\n",
       "  <thead>\n",
       "    <tr style=\"text-align: right;\">\n",
       "      <th></th>\n",
       "      <th>part_id</th>\n",
       "      <th>mean</th>\n",
       "      <th>std</th>\n",
       "      <th>skew</th>\n",
       "      <th>condition</th>\n",
       "    </tr>\n",
       "  </thead>\n",
       "  <tbody>\n",
       "    <tr>\n",
       "      <th>0</th>\n",
       "      <td>A</td>\n",
       "      <td>14.7</td>\n",
       "      <td>3.713339</td>\n",
       "      <td>0.555959</td>\n",
       "      <td>Low</td>\n",
       "    </tr>\n",
       "    <tr>\n",
       "      <th>1</th>\n",
       "      <td>B</td>\n",
       "      <td>16.9</td>\n",
       "      <td>2.766867</td>\n",
       "      <td>-0.264377</td>\n",
       "      <td>High</td>\n",
       "    </tr>\n",
       "    <tr>\n",
       "      <th>2</th>\n",
       "      <td>C</td>\n",
       "      <td>15.3</td>\n",
       "      <td>3.683296</td>\n",
       "      <td>0.035688</td>\n",
       "      <td>High</td>\n",
       "    </tr>\n",
       "    <tr>\n",
       "      <th>3</th>\n",
       "      <td>D</td>\n",
       "      <td>15.1</td>\n",
       "      <td>3.212822</td>\n",
       "      <td>0.088451</td>\n",
       "      <td>Low</td>\n",
       "    </tr>\n",
       "    <tr>\n",
       "      <th>4</th>\n",
       "      <td>E</td>\n",
       "      <td>14.7</td>\n",
       "      <td>3.622461</td>\n",
       "      <td>0.197400</td>\n",
       "      <td>Low</td>\n",
       "    </tr>\n",
       "  </tbody>\n",
       "</table>\n",
       "</div>"
      ],
      "text/plain": [
       "  part_id  mean       std      skew condition\n",
       "0       A  14.7  3.713339  0.555959       Low\n",
       "1       B  16.9  2.766867 -0.264377      High\n",
       "2       C  15.3  3.683296  0.035688      High\n",
       "3       D  15.1  3.212822  0.088451       Low\n",
       "4       E  14.7  3.622461  0.197400       Low"
      ]
     },
     "execution_count": 13,
     "metadata": {},
     "output_type": "execute_result"
    }
   ],
   "source": [
    "agg_values = df_long.groupby(\"part_id\")[\"value\"].aggregate([\"mean\",\"std\", \"skew\"]).reset_index()\n",
    "df_agg = agg_values.merge(df.drop([\"allocation\", \"distribution\"], axis=1), on=\"part_id\")\n",
    "df_agg.head()"
   ]
  },
  {
   "cell_type": "markdown",
   "metadata": {},
   "source": [
    "We can now test the impact of our condition on people's perceived mean (or standard deviation, or skewness) of the distribution:"
   ]
  },
  {
   "cell_type": "code",
   "execution_count": 14,
   "metadata": {},
   "outputs": [
    {
     "data": {
      "text/html": [
       "<table class=\"simpletable\">\n",
       "<caption>OLS Regression Results</caption>\n",
       "<tr>\n",
       "  <th>Dep. Variable:</th>          <td>mean</td>       <th>  R-squared:         </th> <td>   0.715</td>\n",
       "</tr>\n",
       "<tr>\n",
       "  <th>Model:</th>                   <td>OLS</td>       <th>  Adj. R-squared:    </th> <td>   0.700</td>\n",
       "</tr>\n",
       "<tr>\n",
       "  <th>Method:</th>             <td>Least Squares</td>  <th>  F-statistic:       </th> <td>   45.23</td>\n",
       "</tr>\n",
       "<tr>\n",
       "  <th>Date:</th>             <td>Fri, 13 Apr 2018</td> <th>  Prob (F-statistic):</th> <td>2.64e-06</td>\n",
       "</tr>\n",
       "<tr>\n",
       "  <th>Time:</th>                 <td>17:12:36</td>     <th>  Log-Likelihood:    </th> <td> -15.678</td>\n",
       "</tr>\n",
       "<tr>\n",
       "  <th>No. Observations:</th>      <td>    20</td>      <th>  AIC:               </th> <td>   35.36</td>\n",
       "</tr>\n",
       "<tr>\n",
       "  <th>Df Residuals:</th>          <td>    18</td>      <th>  BIC:               </th> <td>   37.35</td>\n",
       "</tr>\n",
       "<tr>\n",
       "  <th>Df Model:</th>              <td>     1</td>      <th>                     </th>     <td> </td>   \n",
       "</tr>\n",
       "<tr>\n",
       "  <th>Covariance Type:</th>      <td>nonrobust</td>    <th>                     </th>     <td> </td>   \n",
       "</tr>\n",
       "</table>\n",
       "<table class=\"simpletable\">\n",
       "<tr>\n",
       "          <td></td>            <th>coef</th>     <th>std err</th>      <th>t</th>      <th>P>|t|</th>  <th>[0.025</th>    <th>0.975]</th>  \n",
       "</tr>\n",
       "<tr>\n",
       "  <th>Intercept</th>        <td>   16.2000</td> <td>    0.177</td> <td>   91.714</td> <td> 0.000</td> <td>   15.829</td> <td>   16.571</td>\n",
       "</tr>\n",
       "<tr>\n",
       "  <th>condition[T.Low]</th> <td>   -1.6800</td> <td>    0.250</td> <td>   -6.725</td> <td> 0.000</td> <td>   -2.205</td> <td>   -1.155</td>\n",
       "</tr>\n",
       "</table>\n",
       "<table class=\"simpletable\">\n",
       "<tr>\n",
       "  <th>Omnibus:</th>       <td> 0.287</td> <th>  Durbin-Watson:     </th> <td>   2.336</td>\n",
       "</tr>\n",
       "<tr>\n",
       "  <th>Prob(Omnibus):</th> <td> 0.866</td> <th>  Jarque-Bera (JB):  </th> <td>   0.395</td>\n",
       "</tr>\n",
       "<tr>\n",
       "  <th>Skew:</th>          <td> 0.235</td> <th>  Prob(JB):          </th> <td>   0.821</td>\n",
       "</tr>\n",
       "<tr>\n",
       "  <th>Kurtosis:</th>      <td> 2.498</td> <th>  Cond. No.          </th> <td>    2.62</td>\n",
       "</tr>\n",
       "</table>"
      ],
      "text/plain": [
       "<class 'statsmodels.iolib.summary.Summary'>\n",
       "\"\"\"\n",
       "                            OLS Regression Results                            \n",
       "==============================================================================\n",
       "Dep. Variable:                   mean   R-squared:                       0.715\n",
       "Model:                            OLS   Adj. R-squared:                  0.700\n",
       "Method:                 Least Squares   F-statistic:                     45.23\n",
       "Date:                Fri, 13 Apr 2018   Prob (F-statistic):           2.64e-06\n",
       "Time:                        17:12:36   Log-Likelihood:                -15.678\n",
       "No. Observations:                  20   AIC:                             35.36\n",
       "Df Residuals:                      18   BIC:                             37.35\n",
       "Df Model:                           1                                         \n",
       "Covariance Type:            nonrobust                                         \n",
       "====================================================================================\n",
       "                       coef    std err          t      P>|t|      [0.025      0.975]\n",
       "------------------------------------------------------------------------------------\n",
       "Intercept           16.2000      0.177     91.714      0.000      15.829      16.571\n",
       "condition[T.Low]    -1.6800      0.250     -6.725      0.000      -2.205      -1.155\n",
       "==============================================================================\n",
       "Omnibus:                        0.287   Durbin-Watson:                   2.336\n",
       "Prob(Omnibus):                  0.866   Jarque-Bera (JB):                0.395\n",
       "Skew:                           0.235   Prob(JB):                        0.821\n",
       "Kurtosis:                       2.498   Cond. No.                         2.62\n",
       "==============================================================================\n",
       "\n",
       "Warnings:\n",
       "[1] Standard Errors assume that the covariance matrix of the errors is correctly specified.\n",
       "\"\"\""
      ]
     },
     "execution_count": 14,
     "metadata": {},
     "output_type": "execute_result"
    }
   ],
   "source": [
    "summ = smf.ols(\"mean~condition\", data=df_agg).fit().summary()\n",
    "summ"
   ]
  },
  {
   "cell_type": "markdown",
   "metadata": {},
   "source": [
    "Here, we see that participants in the \"Low\" condition reported a significantly lower mean that participants in the \"High\" condition (which is exactly how I created the data, so not so surprising...)."
   ]
  },
  {
   "cell_type": "markdown",
   "metadata": {},
   "source": [
    "## 3. Wrapping up"
   ]
  },
  {
   "cell_type": "markdown",
   "metadata": {},
   "source": [
    "I have demonstrated how to convert the raw data outputted by DistributionBuilder to a standard long form dataset. A few words of caution to finish:\n",
    "* Always check that the list of buckets you use in the analysis matches the list of buckets that was shown to participants.\n",
    "* Always check your number of records. If something is off, you might have missing data, or you might not have forced participants to submit a full distribution.\n",
    "* Always ask yourself: what is my unit of analysis? Is it the values provided by participants, or is it a summary statistics of their total reported distribution.\n"
   ]
  }
 ],
 "metadata": {
  "kernelspec": {
   "display_name": "Python 3",
   "language": "python",
   "name": "python3"
  },
  "language_info": {
   "codemirror_mode": {
    "name": "ipython",
    "version": 3
   },
   "file_extension": ".py",
   "mimetype": "text/x-python",
   "name": "python",
   "nbconvert_exporter": "python",
   "pygments_lexer": "ipython3",
   "version": "3.6.5"
  }
 },
 "nbformat": 4,
 "nbformat_minor": 2
}
